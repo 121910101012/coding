{
  "nbformat": 4,
  "nbformat_minor": 0,
  "metadata": {
    "colab": {
      "name": "EXP 2( 18).ipynb",
      "provenance": [],
      "include_colab_link": true
    },
    "kernelspec": {
      "name": "python3",
      "display_name": "Python 3"
    },
    "language_info": {
      "name": "python"
    }
  },
  "cells": [
    {
      "cell_type": "markdown",
      "metadata": {
        "id": "view-in-github",
        "colab_type": "text"
      },
      "source": [
        "<a href=\"https://colab.research.google.com/github/121910101012/coding/blob/main/exp2.ipynb\" target=\"_parent\"><img src=\"https://colab.research.google.com/assets/colab-badge.svg\" alt=\"Open In Colab\"/></a>"
      ]
    },
    {
      "cell_type": "code",
      "metadata": {
        "colab": {
          "base_uri": "https://localhost:8080/"
        },
        "id": "vqY0Z8Ue73f_",
        "outputId": "e301bf2f-f49f-44e4-d14f-204ad1c2f22a"
      },
      "source": [
        "#how many ways 3 letters words with or without meaning can be formedout of the letters of the wod SWING when repitation is not allowed\n",
        "\n",
        "import math\n",
        "word=len(str(input(\"Enter the Word:\")))\n",
        "letters=int(input(\"Enter the number of letters allowed: \"))\n",
        "result=math.factorial(word)/math.factorial(word-letters)\n",
        "print(\"The answer for this permutation is:\", result)"
      ],
      "execution_count": null,
      "outputs": [
        {
          "output_type": "stream",
          "text": [
            "Enter the Word:SWING\n",
            "Enter the number of letters allowed: 3\n",
            "The answer for this permutation is: 60.0\n"
          ],
          "name": "stdout"
        }
      ]
    },
    {
      "cell_type": "code",
      "metadata": {
        "colab": {
          "base_uri": "https://localhost:8080/"
        },
        "id": "LTd1BReU_2z0",
        "outputId": "00caa356-3ac6-4fe9-f04e-c822ce466046"
      },
      "source": [
        "#how many ways 3 letters words with or without meaning can be formed of the letters of the word SWING repitation is not allowed\n",
        "\n",
        "from itertools import permutations\n",
        "\n",
        "word = str(input(\"enter the word:\"))\n",
        "\n",
        "p= list(permutations(word,letters))\n",
        "\n",
        "print(\"the permutation for the given problem is:\",p)"
      ],
      "execution_count": null,
      "outputs": [
        {
          "output_type": "stream",
          "text": [
            "enter the word:SWING\n",
            "the permutation for the given problem is: [('S', 'W', 'I'), ('S', 'W', 'N'), ('S', 'W', 'G'), ('S', 'I', 'W'), ('S', 'I', 'N'), ('S', 'I', 'G'), ('S', 'N', 'W'), ('S', 'N', 'I'), ('S', 'N', 'G'), ('S', 'G', 'W'), ('S', 'G', 'I'), ('S', 'G', 'N'), ('W', 'S', 'I'), ('W', 'S', 'N'), ('W', 'S', 'G'), ('W', 'I', 'S'), ('W', 'I', 'N'), ('W', 'I', 'G'), ('W', 'N', 'S'), ('W', 'N', 'I'), ('W', 'N', 'G'), ('W', 'G', 'S'), ('W', 'G', 'I'), ('W', 'G', 'N'), ('I', 'S', 'W'), ('I', 'S', 'N'), ('I', 'S', 'G'), ('I', 'W', 'S'), ('I', 'W', 'N'), ('I', 'W', 'G'), ('I', 'N', 'S'), ('I', 'N', 'W'), ('I', 'N', 'G'), ('I', 'G', 'S'), ('I', 'G', 'W'), ('I', 'G', 'N'), ('N', 'S', 'W'), ('N', 'S', 'I'), ('N', 'S', 'G'), ('N', 'W', 'S'), ('N', 'W', 'I'), ('N', 'W', 'G'), ('N', 'I', 'S'), ('N', 'I', 'W'), ('N', 'I', 'G'), ('N', 'G', 'S'), ('N', 'G', 'W'), ('N', 'G', 'I'), ('G', 'S', 'W'), ('G', 'S', 'I'), ('G', 'S', 'N'), ('G', 'W', 'S'), ('G', 'W', 'I'), ('G', 'W', 'N'), ('G', 'I', 'S'), ('G', 'I', 'W'), ('G', 'I', 'N'), ('G', 'N', 'S'), ('G', 'N', 'W'), ('G', 'N', 'I')]\n"
          ],
          "name": "stdout"
        }
      ]
    },
    {
      "cell_type": "code",
      "metadata": {
        "colab": {
          "base_uri": "https://localhost:8080/"
        },
        "id": "P7K2tY7B9lun",
        "outputId": "9e13e0dc-d9c5-4e95-f180-3ff786374929"
      },
      "source": [
        "#Find all possible permutations for the string:\" GITAM\"\n",
        "\n",
        "from itertools import permutations\n",
        "string=\"GITAM\"\n",
        "result=list(permutations(string))\n",
        "for i in result:\n",
        "    print(i)"
      ],
      "execution_count": null,
      "outputs": [
        {
          "output_type": "stream",
          "text": [
            "('G', 'I', 'T', 'A', 'M')\n",
            "('G', 'I', 'T', 'M', 'A')\n",
            "('G', 'I', 'A', 'T', 'M')\n",
            "('G', 'I', 'A', 'M', 'T')\n",
            "('G', 'I', 'M', 'T', 'A')\n",
            "('G', 'I', 'M', 'A', 'T')\n",
            "('G', 'T', 'I', 'A', 'M')\n",
            "('G', 'T', 'I', 'M', 'A')\n",
            "('G', 'T', 'A', 'I', 'M')\n",
            "('G', 'T', 'A', 'M', 'I')\n",
            "('G', 'T', 'M', 'I', 'A')\n",
            "('G', 'T', 'M', 'A', 'I')\n",
            "('G', 'A', 'I', 'T', 'M')\n",
            "('G', 'A', 'I', 'M', 'T')\n",
            "('G', 'A', 'T', 'I', 'M')\n",
            "('G', 'A', 'T', 'M', 'I')\n",
            "('G', 'A', 'M', 'I', 'T')\n",
            "('G', 'A', 'M', 'T', 'I')\n",
            "('G', 'M', 'I', 'T', 'A')\n",
            "('G', 'M', 'I', 'A', 'T')\n",
            "('G', 'M', 'T', 'I', 'A')\n",
            "('G', 'M', 'T', 'A', 'I')\n",
            "('G', 'M', 'A', 'I', 'T')\n",
            "('G', 'M', 'A', 'T', 'I')\n",
            "('I', 'G', 'T', 'A', 'M')\n",
            "('I', 'G', 'T', 'M', 'A')\n",
            "('I', 'G', 'A', 'T', 'M')\n",
            "('I', 'G', 'A', 'M', 'T')\n",
            "('I', 'G', 'M', 'T', 'A')\n",
            "('I', 'G', 'M', 'A', 'T')\n",
            "('I', 'T', 'G', 'A', 'M')\n",
            "('I', 'T', 'G', 'M', 'A')\n",
            "('I', 'T', 'A', 'G', 'M')\n",
            "('I', 'T', 'A', 'M', 'G')\n",
            "('I', 'T', 'M', 'G', 'A')\n",
            "('I', 'T', 'M', 'A', 'G')\n",
            "('I', 'A', 'G', 'T', 'M')\n",
            "('I', 'A', 'G', 'M', 'T')\n",
            "('I', 'A', 'T', 'G', 'M')\n",
            "('I', 'A', 'T', 'M', 'G')\n",
            "('I', 'A', 'M', 'G', 'T')\n",
            "('I', 'A', 'M', 'T', 'G')\n",
            "('I', 'M', 'G', 'T', 'A')\n",
            "('I', 'M', 'G', 'A', 'T')\n",
            "('I', 'M', 'T', 'G', 'A')\n",
            "('I', 'M', 'T', 'A', 'G')\n",
            "('I', 'M', 'A', 'G', 'T')\n",
            "('I', 'M', 'A', 'T', 'G')\n",
            "('T', 'G', 'I', 'A', 'M')\n",
            "('T', 'G', 'I', 'M', 'A')\n",
            "('T', 'G', 'A', 'I', 'M')\n",
            "('T', 'G', 'A', 'M', 'I')\n",
            "('T', 'G', 'M', 'I', 'A')\n",
            "('T', 'G', 'M', 'A', 'I')\n",
            "('T', 'I', 'G', 'A', 'M')\n",
            "('T', 'I', 'G', 'M', 'A')\n",
            "('T', 'I', 'A', 'G', 'M')\n",
            "('T', 'I', 'A', 'M', 'G')\n",
            "('T', 'I', 'M', 'G', 'A')\n",
            "('T', 'I', 'M', 'A', 'G')\n",
            "('T', 'A', 'G', 'I', 'M')\n",
            "('T', 'A', 'G', 'M', 'I')\n",
            "('T', 'A', 'I', 'G', 'M')\n",
            "('T', 'A', 'I', 'M', 'G')\n",
            "('T', 'A', 'M', 'G', 'I')\n",
            "('T', 'A', 'M', 'I', 'G')\n",
            "('T', 'M', 'G', 'I', 'A')\n",
            "('T', 'M', 'G', 'A', 'I')\n",
            "('T', 'M', 'I', 'G', 'A')\n",
            "('T', 'M', 'I', 'A', 'G')\n",
            "('T', 'M', 'A', 'G', 'I')\n",
            "('T', 'M', 'A', 'I', 'G')\n",
            "('A', 'G', 'I', 'T', 'M')\n",
            "('A', 'G', 'I', 'M', 'T')\n",
            "('A', 'G', 'T', 'I', 'M')\n",
            "('A', 'G', 'T', 'M', 'I')\n",
            "('A', 'G', 'M', 'I', 'T')\n",
            "('A', 'G', 'M', 'T', 'I')\n",
            "('A', 'I', 'G', 'T', 'M')\n",
            "('A', 'I', 'G', 'M', 'T')\n",
            "('A', 'I', 'T', 'G', 'M')\n",
            "('A', 'I', 'T', 'M', 'G')\n",
            "('A', 'I', 'M', 'G', 'T')\n",
            "('A', 'I', 'M', 'T', 'G')\n",
            "('A', 'T', 'G', 'I', 'M')\n",
            "('A', 'T', 'G', 'M', 'I')\n",
            "('A', 'T', 'I', 'G', 'M')\n",
            "('A', 'T', 'I', 'M', 'G')\n",
            "('A', 'T', 'M', 'G', 'I')\n",
            "('A', 'T', 'M', 'I', 'G')\n",
            "('A', 'M', 'G', 'I', 'T')\n",
            "('A', 'M', 'G', 'T', 'I')\n",
            "('A', 'M', 'I', 'G', 'T')\n",
            "('A', 'M', 'I', 'T', 'G')\n",
            "('A', 'M', 'T', 'G', 'I')\n",
            "('A', 'M', 'T', 'I', 'G')\n",
            "('M', 'G', 'I', 'T', 'A')\n",
            "('M', 'G', 'I', 'A', 'T')\n",
            "('M', 'G', 'T', 'I', 'A')\n",
            "('M', 'G', 'T', 'A', 'I')\n",
            "('M', 'G', 'A', 'I', 'T')\n",
            "('M', 'G', 'A', 'T', 'I')\n",
            "('M', 'I', 'G', 'T', 'A')\n",
            "('M', 'I', 'G', 'A', 'T')\n",
            "('M', 'I', 'T', 'G', 'A')\n",
            "('M', 'I', 'T', 'A', 'G')\n",
            "('M', 'I', 'A', 'G', 'T')\n",
            "('M', 'I', 'A', 'T', 'G')\n",
            "('M', 'T', 'G', 'I', 'A')\n",
            "('M', 'T', 'G', 'A', 'I')\n",
            "('M', 'T', 'I', 'G', 'A')\n",
            "('M', 'T', 'I', 'A', 'G')\n",
            "('M', 'T', 'A', 'G', 'I')\n",
            "('M', 'T', 'A', 'I', 'G')\n",
            "('M', 'A', 'G', 'I', 'T')\n",
            "('M', 'A', 'G', 'T', 'I')\n",
            "('M', 'A', 'I', 'G', 'T')\n",
            "('M', 'A', 'I', 'T', 'G')\n",
            "('M', 'A', 'T', 'G', 'I')\n",
            "('M', 'A', 'T', 'I', 'G')\n"
          ],
          "name": "stdout"
        }
      ]
    },
    {
      "cell_type": "code",
      "metadata": {
        "colab": {
          "base_uri": "https://localhost:8080/"
        },
        "id": "rUiKNOAQCGfH",
        "outputId": "c4b8f2de-d4ba-4c7d-85df-46ff6c24014b"
      },
      "source": [
        "#Find all possible permutations for the string:\" GITAM\"\n",
        "\n",
        "from itertools import permutations\n",
        "string=\"GITAM\"\n",
        "result=permutations(string,3)\n",
        "\n",
        "print(\"The answer for the permutation is:\",len(list(result)))"
      ],
      "execution_count": null,
      "outputs": [
        {
          "output_type": "stream",
          "text": [
            "The answer for the permutation is: 60\n"
          ],
          "name": "stdout"
        }
      ]
    }
  ]
}