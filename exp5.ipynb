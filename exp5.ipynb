{
  "nbformat": 4,
  "nbformat_minor": 0,
  "metadata": {
    "colab": {
      "name": "Untitled0.ipynb",
      "provenance": []
    },
    "kernelspec": {
      "name": "python3",
      "display_name": "Python 3"
    },
    "language_info": {
      "name": "python"
    }
  },
  "cells": [
    {
      "cell_type": "markdown",
      "metadata": {
        "id": "CAq6IpbUMdd-"
      },
      "source": [
        "program 1\n"
      ]
    },
    {
      "cell_type": "code",
      "metadata": {
        "colab": {
          "base_uri": "https://localhost:8080/"
        },
        "id": "-9MXnpY0Mgjr",
        "outputId": "749c73de-0d2f-4b87-a373-57632bccaf6c"
      },
      "source": [
        "A = {1,2,3,4,5}\n",
        "B = {5,6,7}\n",
        "\n",
        "print(2 in A)\n",
        "\n",
        "type(2 in A)"
      ],
      "execution_count": 1,
      "outputs": [
        {
          "output_type": "stream",
          "name": "stdout",
          "text": [
            "True\n"
          ]
        },
        {
          "output_type": "execute_result",
          "data": {
            "text/plain": [
              "bool"
            ]
          },
          "metadata": {},
          "execution_count": 1
        }
      ]
    },
    {
      "cell_type": "markdown",
      "metadata": {
        "id": "MtlU96NOMmAR"
      },
      "source": [
        "program 2\n"
      ]
    },
    {
      "cell_type": "code",
      "metadata": {
        "colab": {
          "base_uri": "https://localhost:8080/"
        },
        "id": "uT8UxYlzMviA",
        "outputId": "b0ce85fd-8dc6-4575-8d68-35b7321d83b6"
      },
      "source": [
        "A = {1,2,3,4,5}\n",
        "B = {5,6,7}\n",
        "\n",
        "B.issubset(A)"
      ],
      "execution_count": 2,
      "outputs": [
        {
          "output_type": "execute_result",
          "data": {
            "text/plain": [
              "False"
            ]
          },
          "metadata": {},
          "execution_count": 2
        }
      ]
    },
    {
      "cell_type": "markdown",
      "metadata": {
        "id": "zlIH6C9NM0n1"
      },
      "source": [
        "program 3\n"
      ]
    },
    {
      "cell_type": "code",
      "metadata": {
        "colab": {
          "base_uri": "https://localhost:8080/"
        },
        "id": "5bZiormcM2O9",
        "outputId": "9effad78-640a-48c3-8240-54c461ca870c"
      },
      "source": [
        "def is_subset(A,B):\n",
        "   for  e in A:\n",
        "     if e in B:\n",
        "       pass\n",
        "     \n",
        "     else:\n",
        "     \n",
        "       return False\n",
        "   \n",
        "   \n",
        "   return True\n",
        "\n",
        "\n",
        "\n",
        "     \n",
        "A = {1,2,3,4,5}\n",
        "B = {5,6,7}\n",
        "\n",
        "sub = is_subset(A,B)\n",
        "\n",
        "print(sub)\n",
        "   "
      ],
      "execution_count": 4,
      "outputs": [
        {
          "output_type": "stream",
          "name": "stdout",
          "text": [
            "False\n"
          ]
        }
      ]
    },
    {
      "cell_type": "markdown",
      "metadata": {
        "id": "166kgXonNCzf"
      },
      "source": [
        "program 4\n"
      ]
    },
    {
      "cell_type": "code",
      "metadata": {
        "colab": {
          "base_uri": "https://localhost:8080/"
        },
        "id": "4xED2-QONFIj",
        "outputId": "313e9ee8-be6b-4eeb-fbf2-144064a5ce05"
      },
      "source": [
        "import numpy as np\n",
        "\n",
        "uni = set(np.arange(10))\n",
        "A = set(np.arange(0,9,2))\n",
        "B = set(np.arange(0,9,3))\n",
        "\n",
        "print(\"\\nUniversal Set: \",uni)\n",
        "print(\"\\nSet: \", A)\n",
        "print(\"\\nSet: \",B)\n",
        "\n",
        "A.union(B)"
      ],
      "execution_count": 5,
      "outputs": [
        {
          "output_type": "stream",
          "name": "stdout",
          "text": [
            "\n",
            "Universal Set:  {0, 1, 2, 3, 4, 5, 6, 7, 8, 9}\n",
            "\n",
            "Set:  {0, 2, 4, 6, 8}\n",
            "\n",
            "Set:  {0, 3, 6}\n"
          ]
        },
        {
          "output_type": "execute_result",
          "data": {
            "text/plain": [
              "{0, 2, 3, 4, 6, 8}"
            ]
          },
          "metadata": {},
          "execution_count": 5
        }
      ]
    }
  ]
}