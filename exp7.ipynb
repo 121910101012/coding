{
  "nbformat": 4,
  "nbformat_minor": 0,
  "metadata": {
    "colab": {
      "name": "Untitled2.ipynb",
      "provenance": [],
      "authorship_tag": "ABX9TyOwsdsIAi5RIc3xQyU/WKCY",
      "include_colab_link": true
    },
    "kernelspec": {
      "name": "python3",
      "display_name": "Python 3"
    },
    "language_info": {
      "name": "python"
    }
  },
  "cells": [
    {
      "cell_type": "markdown",
      "metadata": {
        "id": "view-in-github",
        "colab_type": "text"
      },
      "source": [
        "<a href=\"https://colab.research.google.com/github/121910101012/coding/blob/main/exp7.ipynb\" target=\"_parent\"><img src=\"https://colab.research.google.com/assets/colab-badge.svg\" alt=\"Open In Colab\"/></a>"
      ]
    },
    {
      "cell_type": "markdown",
      "metadata": {
        "id": "vunwnaEqGHSr"
      },
      "source": [
        "program 1\n"
      ]
    },
    {
      "cell_type": "code",
      "metadata": {
        "colab": {
          "base_uri": "https://localhost:8080/"
        },
        "id": "YUc5fcSZGJHE",
        "outputId": "65028a6d-eb48-4875-bf3e-855ce27ae480"
      },
      "source": [
        "# Determine the probability of getting a red heart from playing card set.\n",
        "\n",
        "def card_probability(fav,T_outcome):\n",
        "  prob = (fav/T_outcome)*100\n",
        "\n",
        "  return prob\n",
        "\n",
        "\n",
        "Red_heart = 13\n",
        "Sample_size = 52\n",
        "\n",
        "prob_Red_heart = card_probability(Red_heart,Sample_size)\n",
        "\n",
        "print(\"The answer is: \", prob_Red_heart)"
      ],
      "execution_count": 1,
      "outputs": [
        {
          "output_type": "stream",
          "name": "stdout",
          "text": [
            "The answer is:  25.0\n"
          ]
        }
      ]
    },
    {
      "cell_type": "markdown",
      "metadata": {
        "id": "IaeNcWhdGXsK"
      },
      "source": [
        "program 2\n"
      ]
    },
    {
      "cell_type": "code",
      "metadata": {
        "id": "TQT0i2lnGZIi"
      },
      "source": [
        "# Determine the probability of getting a face card from playing card set.\n",
        "\n",
        "def card_probability(fav,T_outcome):\n",
        "  prob = (fav/T_outcome)*100\n",
        "\n",
        "  return prob\n",
        "\n",
        "\n",
        "Face_card = 12\n",
        "Sample_size = 52"
      ],
      "execution_count": 2,
      "outputs": []
    }
  ]
}