{
  "nbformat": 4,
  "nbformat_minor": 0,
  "metadata": {
    "colab": {
      "name": "Untitled3.ipynb",
      "provenance": [],
      "authorship_tag": "ABX9TyNfGjb2TlQy8+TW3DQEFFff",
      "include_colab_link": true
    },
    "kernelspec": {
      "name": "python3",
      "display_name": "Python 3"
    },
    "language_info": {
      "name": "python"
    }
  },
  "cells": [
    {
      "cell_type": "markdown",
      "metadata": {
        "id": "view-in-github",
        "colab_type": "text"
      },
      "source": [
        "<a href=\"https://colab.research.google.com/github/121910101012/coding/blob/main/mid1part1.ipynb\" target=\"_parent\"><img src=\"https://colab.research.google.com/assets/colab-badge.svg\" alt=\"Open In Colab\"/></a>"
      ]
    },
    {
      "cell_type": "code",
      "metadata": {
        "id": "jawQNopGsPzq"
      },
      "source": [
        ""
      ],
      "execution_count": null,
      "outputs": []
    },
    {
      "cell_type": "markdown",
      "metadata": {
        "id": "1G3fS6S3sRcz"
      },
      "source": [
        "mid 1\n"
      ]
    },
    {
      "cell_type": "code",
      "metadata": {
        "colab": {
          "base_uri": "https://localhost:8080/"
        },
        "id": "mXD1Xo4lsSrg",
        "outputId": "66c84b24-7fc5-43b5-d954-a957926d10c6"
      },
      "source": [
        "\n",
        "def fact(n):\n",
        "  if n==0:\n",
        "    return 1\n",
        "  else:\n",
        "    return n*fact(n-1)\n",
        "\n",
        "N = int(input(\"Total number of screws: \"))\n",
        "K = int(input(\"Number of defective screws: \"))\n",
        "D = int(input(\"Number of screws picked: \"))\n",
        "\n",
        "prob = (fact(N-K)/(fact((N-K)-D)*fact(D)))/(fact(N)/((fact(N-D))*fact(D)))\n",
        "\n",
        "print(\"The probability of picking 2 perfect screws is: \", prob)"
      ],
      "execution_count": 2,
      "outputs": [
        {
          "output_type": "stream",
          "name": "stdout",
          "text": [
            "Total number of screws: 6\n",
            "Number of defective screws: 2\n",
            "Number of screws picked: 4\n",
            "The probability of picking 2 perfect screws is:  0.06666666666666667\n"
          ]
        }
      ]
    }
  ]
}